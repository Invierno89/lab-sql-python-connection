{
 "cells": [
  {
   "cell_type": "code",
   "execution_count": 1,
   "metadata": {},
   "outputs": [
    {
     "name": "stdout",
     "output_type": "stream",
     "text": [
      "Note: you may need to restart the kernel to use updated packages.Collecting mysql-connector-python\n",
      "  Downloading mysql_connector_python-9.1.0-cp311-cp311-win_amd64.whl.metadata (6.2 kB)\n",
      "Downloading mysql_connector_python-9.1.0-cp311-cp311-win_amd64.whl (16.1 MB)\n",
      "   ---------------------------------------- 0.0/16.1 MB ? eta -:--:--\n",
      "   --- ------------------------------------ 1.6/16.1 MB 10.5 MB/s eta 0:00:02\n",
      "   --------- ------------------------------ 3.9/16.1 MB 10.7 MB/s eta 0:00:02\n",
      "   --------------- ------------------------ 6.3/16.1 MB 11.0 MB/s eta 0:00:01\n",
      "   ---------------------- ----------------- 8.9/16.1 MB 11.1 MB/s eta 0:00:01\n",
      "   --------------------------- ------------ 11.0/16.1 MB 10.9 MB/s eta 0:00:01\n",
      "   -------------------------------- ------- 13.1/16.1 MB 10.7 MB/s eta 0:00:01\n",
      "   ------------------------------------- -- 15.2/16.1 MB 10.5 MB/s eta 0:00:01\n",
      "   ---------------------------------------- 16.1/16.1 MB 10.3 MB/s eta 0:00:00\n",
      "Installing collected packages: mysql-connector-python\n",
      "Successfully installed mysql-connector-python-9.1.0\n",
      "\n"
     ]
    },
    {
     "name": "stderr",
     "output_type": "stream",
     "text": [
      "\n",
      "[notice] A new release of pip is available: 24.2 -> 24.3.1\n",
      "[notice] To update, run: C:\\Users\\bruno\\AppData\\Local\\Microsoft\\WindowsApps\\PythonSoftwareFoundation.Python.3.11_qbz5n2kfra8p0\\python.exe -m pip install --upgrade pip\n"
     ]
    }
   ],
   "source": [
    "%pip install mysql-connector-python"
   ]
  },
  {
   "cell_type": "code",
   "execution_count": 1,
   "metadata": {},
   "outputs": [],
   "source": [
    "import mysql.connector"
   ]
  },
  {
   "cell_type": "code",
   "execution_count": 2,
   "metadata": {},
   "outputs": [],
   "source": [
    "import getpass  # To get the password without showing the input\n",
    "password = getpass.getpass()"
   ]
  },
  {
   "cell_type": "code",
   "execution_count": 11,
   "metadata": {},
   "outputs": [],
   "source": [
    "# Se crea una conexión con mysql\n",
    "\n",
    "conn = mysql.connector.connect(host='localhost',\n",
    "                        user='root',\n",
    "                        passwd=password,\n",
    "                        database='sakila'\n",
    "                        )"
   ]
  },
  {
   "cell_type": "code",
   "execution_count": 12,
   "metadata": {},
   "outputs": [
    {
     "data": {
      "text/plain": [
       "<mysql.connector.cursor.MySQLCursor at 0x16be3e500d0>"
      ]
     },
     "execution_count": 12,
     "metadata": {},
     "output_type": "execute_result"
    }
   ],
   "source": [
    "# Se activa el cursor\n",
    "\n",
    "cursor = conn.cursor()\n",
    "\n",
    "cursor"
   ]
  },
  {
   "cell_type": "code",
   "execution_count": 13,
   "metadata": {},
   "outputs": [],
   "source": [
    "cursor.close()\n",
    "conn.close()"
   ]
  },
  {
   "cell_type": "code",
   "execution_count": 16,
   "metadata": {},
   "outputs": [
    {
     "name": "stdout",
     "output_type": "stream",
     "text": [
      "      rental_id         rental_date  inventory_id  customer_id  \\\n",
      "0          1158 2005-06-14 22:53:33          1632          416   \n",
      "1          1159 2005-06-14 22:55:13          4395          516   \n",
      "2          1160 2005-06-14 23:00:34          2795          239   \n",
      "3          1161 2005-06-14 23:07:08          1690          285   \n",
      "4          1162 2005-06-14 23:09:38           987          310   \n",
      "...         ...                 ...           ...          ...   \n",
      "2306       3465 2005-06-21 22:10:01          1488          510   \n",
      "2307       3466 2005-06-21 22:13:33           371          226   \n",
      "2308       3467 2005-06-21 22:19:25           729          543   \n",
      "2309       3468 2005-06-21 22:43:45          2899          100   \n",
      "2310       3469 2005-06-21 22:48:59          4087          181   \n",
      "\n",
      "             return_date  staff_id         last_update  \n",
      "0    2005-06-18 21:37:33         2 2006-02-15 21:30:53  \n",
      "1    2005-06-17 02:11:13         1 2006-02-15 21:30:53  \n",
      "2    2005-06-18 01:58:34         2 2006-02-15 21:30:53  \n",
      "3    2005-06-21 17:12:08         1 2006-02-15 21:30:53  \n",
      "4    2005-06-23 22:00:38         1 2006-02-15 21:30:53  \n",
      "...                  ...       ...                 ...  \n",
      "2306 2005-06-30 21:35:01         1 2006-02-15 21:30:53  \n",
      "2307 2005-06-25 21:01:33         2 2006-02-15 21:30:53  \n",
      "2308 2005-06-27 00:03:25         2 2006-02-15 21:30:53  \n",
      "2309 2005-06-30 01:49:45         1 2006-02-15 21:30:53  \n",
      "2310 2005-06-28 19:32:59         1 2006-02-15 21:30:53  \n",
      "\n",
      "[2311 rows x 7 columns]\n"
     ]
    }
   ],
   "source": [
    "import pymysql\n",
    "from sqlalchemy import create_engine, text\n",
    "import pandas as pd\n",
    "from urllib.parse import quote_plus\n",
    "\n",
    "def rentals_month(engine, month, year):\n",
    "    # Crear una consulta SQL para recuperar los datos de alquiler para el mes y año especificados\n",
    "    query = text(\"\"\"\n",
    "    SELECT rental_id, rental_date, inventory_id, customer_id, return_date, staff_id, last_update\n",
    "    FROM rental\n",
    "    WHERE EXTRACT(MONTH FROM rental_date) = :month AND EXTRACT(YEAR FROM rental_date) = :year\n",
    "    \"\"\")\n",
    "\n",
    "    # Ejecutar la consulta y recuperar los datos en un DataFrame de pandas\n",
    "    with engine.connect() as connection:\n",
    "        result = connection.execute(query, month=month, year=year)\n",
    "        rentals_df = pd.DataFrame(result.fetchall(), columns=result.keys())\n",
    "\n",
    "    return rentals_df\n",
    "\n",
    "# Parámetros de conexión\n",
    "host = 'localhost'\n",
    "user = 'root'\n",
    "password = password\n",
    "database = 'sakila'\n",
    "\n",
    "# Codificar usuario y contraseña\n",
    "user_quoted = quote_plus(user)\n",
    "password_quoted = quote_plus(password)\n",
    "\n",
    "# Crear un engine de SQLAlchemy utilizando la conexión pymysql\n",
    "engine = create_engine(f'mysql+pymysql://{user_quoted}:{password_quoted}@{host}/{database}')\n",
    "\n",
    "# Usar el engine en la función rentals_month\n",
    "month1 = 5  # Por ejemplo, noviembre\n",
    "month2 = 6 \n",
    "year = 2005\n",
    "df1 = rentals_month(engine, month1, year)\n",
    "df2 = rentals_month(engine, month2, year)\n",
    "print(df2)\n"
   ]
  },
  {
   "cell_type": "code",
   "execution_count": 20,
   "metadata": {},
   "outputs": [
    {
     "name": "stdout",
     "output_type": "stream",
     "text": [
      "     customer_id  rentals_05_2005\n",
      "0              1                2\n",
      "1              2                1\n",
      "2              3                2\n",
      "3              5                3\n",
      "4              6                3\n",
      "..           ...              ...\n",
      "515          594                4\n",
      "516          595                1\n",
      "517          596                6\n",
      "518          597                2\n",
      "519          599                1\n",
      "\n",
      "[520 rows x 2 columns]\n"
     ]
    }
   ],
   "source": [
    "import pandas as pd\n",
    "\n",
    "def rental_count_month(df, month, year):\n",
    "    # Crear una columna de conteo de alquileres\n",
    "    rental_count = df.groupby('customer_id').size().reset_index(name=f'rentals_{str(month).zfill(2)}_{year}')\n",
    "    \n",
    "    return rental_count\n",
    "\n",
    "# Ejemplo de uso\n",
    "# Asumiendo que ya tienes un DataFrame df proporcionado por rentals_month\n",
    "month1 = 5\n",
    "month2 = 6\n",
    "year = 2005\n",
    "#df = rentals_month(engine, month, year)  # Supongamos que esta es la llamada a tu función anterior\n",
    "\n",
    "result_df1 = rental_count_month(df1, month1, year)\n",
    "result_df2 = rental_count_month(df2, month2, year)\n",
    "print(result_df1)\n"
   ]
  },
  {
   "cell_type": "code",
   "execution_count": 23,
   "metadata": {},
   "outputs": [
    {
     "name": "stdout",
     "output_type": "stream",
     "text": [
      "     customer_id  rentals_05_2005  rentals_06_2005  diference\n",
      "0              1              2.0              7.0       -5.0\n",
      "1              2              1.0              1.0        0.0\n",
      "2              3              2.0              4.0       -2.0\n",
      "3              5              3.0              5.0       -2.0\n",
      "4              6              3.0              4.0       -1.0\n",
      "..           ...              ...              ...        ...\n",
      "593          583              0.0              6.0       -6.0\n",
      "594          585              0.0              4.0       -4.0\n",
      "595          591              0.0              3.0       -3.0\n",
      "596          592              0.0              5.0       -5.0\n",
      "597          598              0.0              1.0       -1.0\n",
      "\n",
      "[598 rows x 4 columns]\n"
     ]
    }
   ],
   "source": [
    "import pandas as pd\n",
    "\n",
    "def compare_rentals(df1, df2, column1, column2):\n",
    "    # Combinar los dos DataFrames en uno solo utilizando la columna 'customer_id' como clave\n",
    "    combined_df = pd.merge(df1, df2, on='customer_id', how='outer', suffixes=('_month1', '_month2'))\n",
    "    \n",
    "    # Rellenar los valores NaN con 0 para poder realizar la diferencia correctamente\n",
    "    combined_df = combined_df.fillna(0)\n",
    "    \n",
    "    # Crear la nueva columna 'diferencia' que representa la diferencia entre los dos meses\n",
    "    combined_df['diference'] = combined_df[column1] - combined_df[column2]\n",
    "    \n",
    "    return combined_df\n",
    "\n",
    "# Ejemplo de uso\n",
    "# Asumiendo que tienes dos DataFrames: df_month1 y df_month2\n",
    "# df_month1 tiene una columna llamada 'rentals_05_2024'\n",
    "# df_month2 tiene una columna llamada 'rentals_06_2024'\n",
    "#df_month1 = pd.DataFrame({'customer_id': [1, 2, 3], 'rentals_05_2024': [5, 7, 10]})\n",
    "#df_month2 = pd.DataFrame({'customer_id': [1, 2, 3], 'rentals_06_2024': [6, 5, 12]})\n",
    "\n",
    "result_df = compare_rentals(result_df1, result_df2, 'rentals_05_2005', 'rentals_06_2005')\n",
    "print(result_df)\n"
   ]
  },
  {
   "cell_type": "code",
   "execution_count": 19,
   "metadata": {},
   "outputs": [
    {
     "name": "stdout",
     "output_type": "stream",
     "text": [
      "Requirement already satisfied: sqlalchemy in c:\\users\\bruno\\appdata\\local\\packages\\pythonsoftwarefoundation.python.3.11_qbz5n2kfra8p0\\localcache\\local-packages\\python311\\site-packages (1.4.46)\n",
      "Requirement already satisfied: greenlet!=0.4.17 in c:\\users\\bruno\\appdata\\local\\packages\\pythonsoftwarefoundation.python.3.11_qbz5n2kfra8p0\\localcache\\local-packages\\python311\\site-packages (from sqlalchemy) (3.0.1)\n"
     ]
    },
    {
     "name": "stderr",
     "output_type": "stream",
     "text": [
      "\n",
      "[notice] A new release of pip is available: 24.2 -> 24.3.1\n",
      "[notice] To update, run: C:\\Users\\bruno\\AppData\\Local\\Microsoft\\WindowsApps\\PythonSoftwareFoundation.Python.3.11_qbz5n2kfra8p0\\python.exe -m pip install --upgrade pip\n"
     ]
    },
    {
     "name": "stdout",
     "output_type": "stream",
     "text": [
      "Collecting pymysql\n",
      "  Downloading PyMySQL-1.1.1-py3-none-any.whl.metadata (4.4 kB)\n",
      "Downloading PyMySQL-1.1.1-py3-none-any.whl (44 kB)\n",
      "Installing collected packages: pymysql\n",
      "Successfully installed pymysql-1.1.1\n"
     ]
    },
    {
     "name": "stderr",
     "output_type": "stream",
     "text": [
      "\n",
      "[notice] A new release of pip is available: 24.2 -> 24.3.1\n",
      "[notice] To update, run: C:\\Users\\bruno\\AppData\\Local\\Microsoft\\WindowsApps\\PythonSoftwareFoundation.Python.3.11_qbz5n2kfra8p0\\python.exe -m pip install --upgrade pip\n"
     ]
    }
   ],
   "source": [
    "!pip install sqlalchemy\n",
    "!pip install pymysql"
   ]
  }
 ],
 "metadata": {
  "kernelspec": {
   "display_name": "Python 3",
   "language": "python",
   "name": "python3"
  },
  "language_info": {
   "codemirror_mode": {
    "name": "ipython",
    "version": 3
   },
   "file_extension": ".py",
   "mimetype": "text/x-python",
   "name": "python",
   "nbconvert_exporter": "python",
   "pygments_lexer": "ipython3",
   "version": "3.11.9"
  }
 },
 "nbformat": 4,
 "nbformat_minor": 2
}
